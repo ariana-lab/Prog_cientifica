{
  "nbformat": 4,
  "nbformat_minor": 0,
  "metadata": {
    "colab": {
      "provenance": [],
      "include_colab_link": true
    },
    "kernelspec": {
      "name": "python3",
      "display_name": "Python 3"
    },
    "language_info": {
      "name": "python"
    }
  },
  "cells": [
    {
      "cell_type": "markdown",
      "metadata": {
        "id": "view-in-github",
        "colab_type": "text"
      },
      "source": [
        "<a href=\"https://colab.research.google.com/github/ariana-lab/Prog_cientifica/blob/main/Copia_de_CI_github.ipynb\" target=\"_parent\"><img src=\"https://colab.research.google.com/assets/colab-badge.svg\" alt=\"Open In Colab\"/></a>"
      ]
    },
    {
      "cell_type": "markdown",
      "source": [
        "# 1. Estructura del proyecto\n",
        "\n",
        "Primero vamos a generar la estructura básica de carpetas y archivos que usaremos como ejemplo. Esto es útil para tener algo concreto sobre lo que trabajar y probar el flujo CI."
      ],
      "metadata": {
        "id": "IB_Qm1_6ClNR"
      }
    },
    {
      "cell_type": "markdown",
      "source": [
        "Trabajamos lo siguiente:\n",
        "\n",
        "* Creamos un pequeño proyecto Python.\n",
        "* archivo main.py con una función simple.\n",
        "* prueba unitaria (test_main.py) para asegurarnos de que esa función funciona.\n",
        "* Dejamos listo el archivo donde irá nuestro workflow de CI."
      ],
      "metadata": {
        "id": "dv6u3TPMCzeu"
      }
    },
    {
      "cell_type": "markdown",
      "source": [
        "Vamos a usar **pytest** para las pruebas\n",
        "\n",
        "* pytest es un framework de testing que permite:\n",
        "\n",
        "  * Escribir pruebas unitarias de manera simple y clara.\n",
        "\n",
        "  * Ejecutar automáticamente pruebas para verificar que el código funciona.\n",
        "\n",
        "  * Mostrar mensajes útiles cuando una prueba falla.\n",
        "\n",
        "  * Extender el testing con fixtures, parametrización y plugins avanzados."
      ],
      "metadata": {
        "id": "aEySi3hCfUyH"
      }
    },
    {
      "cell_type": "markdown",
      "source": [
        "**Ejemplo de uso de pytest**"
      ],
      "metadata": {
        "id": "rnIP28lffqwP"
      }
    },
    {
      "cell_type": "markdown",
      "source": [
        "* Debes ejecutar pytest desde el terminal o en colab (dentro de tu proyecto)\n",
        "* pytest busca automáticamente todos los archivos que comienzan con test_ o terminan en _test.py\n",
        "* Dentro de esos archivos, ejecuta todas las funciones que comienzan con test_\n",
        "\n",
        "pytest encuentra las pruebas automáticamente"
      ],
      "metadata": {
        "id": "lTg-6PKsgS7w"
      }
    },
    {
      "cell_type": "code",
      "execution_count": 5,
      "metadata": {
        "colab": {
          "base_uri": "https://localhost:8080/"
        },
        "id": "2YspHKjYAGdm",
        "outputId": "0367dd54-3308-472c-f58b-ed8e0180a0bc"
      },
      "outputs": [
        {
          "output_type": "stream",
          "name": "stdout",
          "text": [
            "Estructura creada\n"
          ]
        }
      ],
      "source": [
        "import os # permite interactuar con el sistema de archivos\n",
        "\n",
        "# Carpetas del proyecto\n",
        "dirs = [\n",
        "    \"my_project/.github/workflows\",  # Carpeta donde irá el workflow de GitHub Actions (aquí esta el archivo .yml)\n",
        "    \"my_project/src\",                # Carpeta para el código fuente del proyecto\n",
        "    \"my_project/tests\"              # Carpeta donde estarán las pruebas unitarias\n",
        "]\n",
        "\n",
        "# Archivos base del proyecto\n",
        "files = {\n",
        "    \"my_project/requirements.txt\": \"pytest\\nflake8\\n\",  # Dependencias del proyecto para ejecutar pruebas\n",
        "    \"my_project/src/main.py\": \"def add(a, b):\\n    return a + b\\n\",  # Función simple a testear\n",
        "    \"my_project/tests/test_main.py\": \"from src.main import add\\n\\ndef test_add():\\n    assert add(2, 3) == 5\\n\",  # Prueba unitaria\n",
        "    \"my_project/.github/workflows/ci.yml\": \"\",  # Aquí luego pondremos el workflow CI\n",
        "    \"my_project/README.md\": \"# Proyecto de ejemplo para CI\\n\"  # Documentación inicial\n",
        "}\n",
        "\n",
        "# Crear directorios y archivos\n",
        "for d in dirs:\n",
        "    os.makedirs(d, exist_ok=True) # el argumento evita errores si la carpeta ya existe\n",
        "\n",
        "for path, content in files.items():\n",
        "    with open(path, \"w\") as f:\n",
        "        f.write(content)\n",
        "\n",
        "print(\"Estructura creada\")"
      ]
    },
    {
      "cell_type": "markdown",
      "source": [
        "# 2. workflow de GitHub Actions\n",
        "\n",
        "Escribimos el archivo .github/workflows/ci.yml, que es donde GitHub Actions define qué hacer cada vez que alguien sube código (push) o crea un pull request."
      ],
      "metadata": {
        "id": "Jkgw48E3DHBX"
      }
    },
    {
      "cell_type": "markdown",
      "source": [
        "¿Qué hace este archivo?\n",
        "\n",
        "* Activa el flujo de CI al hacer push o pull_request en la rama main.\n",
        "\n",
        "* Corre el código en Linux, Windows y macOS.\n",
        "\n",
        "* Usa varias versiones de Python.\n",
        "\n",
        "* Instala las dependencias del proyecto.\n",
        "\n",
        "* Revisa el estilo del código con flake8.\n",
        "\n",
        "* Corre las pruebas unitarias con pytest.\n",
        "\n"
      ],
      "metadata": {
        "id": "ddRLaTEADxr2"
      }
    },
    {
      "cell_type": "code",
      "source": [
        "ci_workflow = \"\"\"\n",
        "name: CI Pipeline\n",
        "\n",
        "on:\n",
        "  push:\n",
        "    branches: [main]  # Ejecuta el CI cuando hay un push a la rama main\n",
        "  pull_request:\n",
        "    branches: [main]  # También en los PR hacia la rama main\n",
        "\n",
        "jobs:\n",
        "  test:\n",
        "    name: Run Tests\n",
        "    runs-on: ${{ matrix.os }}  # Corre en múltiples sistemas operativos\n",
        "\n",
        "    strategy:\n",
        "      matrix:\n",
        "        os: [ubuntu-latest, windows-latest, macos-latest]  # Soporte multiplataforma\n",
        "        python-version: [3.9, 3.10, 3.11]                   # Pruebas con varias versiones de Python\n",
        "\n",
        "    steps:\n",
        "    - name: Checkout code\n",
        "      uses: actions/checkout@v4  # Clona el repo\n",
        "\n",
        "    - name: Set up Python\n",
        "      uses: actions/setup-python@v5\n",
        "      with:\n",
        "        python-version: ${{ matrix.python-version }}\n",
        "\n",
        "    - name: Install dependencies\n",
        "      run: |\n",
        "        python -m pip install --upgrade pip\n",
        "        pip install -r requirements.txt\n",
        "\n",
        "    - name: Run linter\n",
        "      run: |\n",
        "        flake8 src tests  # Linter para verificar estilo de código\n",
        "\n",
        "    - name: Run tests\n",
        "      run: |\n",
        "        pytest  # Corre las pruebas unitarias\n",
        "\"\"\"\n",
        "\n",
        "# Guardar el workflow en el archivo correspondiente\n",
        "with open(\"my_project/.github/workflows/ci.yml\", \"w\") as f:\n",
        "    f.write(ci_workflow.strip())\n",
        "\n",
        "print(\"Workflow CI creado\")"
      ],
      "metadata": {
        "colab": {
          "base_uri": "https://localhost:8080/",
          "height": 211
        },
        "id": "yvH5u80DCqG_",
        "outputId": "3c0cc98a-8e52-450a-9a3e-c298b2f7ec2d"
      },
      "execution_count": 3,
      "outputs": [
        {
          "output_type": "error",
          "ename": "FileNotFoundError",
          "evalue": "[Errno 2] No such file or directory: 'my_project/.github/workflows/ci.yml'",
          "traceback": [
            "\u001b[0;31m---------------------------------------------------------------------------\u001b[0m",
            "\u001b[0;31mFileNotFoundError\u001b[0m                         Traceback (most recent call last)",
            "\u001b[0;32m<ipython-input-3-bcbc926b5252>\u001b[0m in \u001b[0;36m<cell line: 0>\u001b[0;34m()\u001b[0m\n\u001b[1;32m     42\u001b[0m \u001b[0;34m\u001b[0m\u001b[0m\n\u001b[1;32m     43\u001b[0m \u001b[0;31m# Guardar el workflow en el archivo correspondiente\u001b[0m\u001b[0;34m\u001b[0m\u001b[0;34m\u001b[0m\u001b[0m\n\u001b[0;32m---> 44\u001b[0;31m \u001b[0;32mwith\u001b[0m \u001b[0mopen\u001b[0m\u001b[0;34m(\u001b[0m\u001b[0;34m\"my_project/.github/workflows/ci.yml\"\u001b[0m\u001b[0;34m,\u001b[0m \u001b[0;34m\"w\"\u001b[0m\u001b[0;34m)\u001b[0m \u001b[0;32mas\u001b[0m \u001b[0mf\u001b[0m\u001b[0;34m:\u001b[0m\u001b[0;34m\u001b[0m\u001b[0;34m\u001b[0m\u001b[0m\n\u001b[0m\u001b[1;32m     45\u001b[0m     \u001b[0mf\u001b[0m\u001b[0;34m.\u001b[0m\u001b[0mwrite\u001b[0m\u001b[0;34m(\u001b[0m\u001b[0mci_workflow\u001b[0m\u001b[0;34m.\u001b[0m\u001b[0mstrip\u001b[0m\u001b[0;34m(\u001b[0m\u001b[0;34m)\u001b[0m\u001b[0;34m)\u001b[0m\u001b[0;34m\u001b[0m\u001b[0;34m\u001b[0m\u001b[0m\n\u001b[1;32m     46\u001b[0m \u001b[0;34m\u001b[0m\u001b[0m\n",
            "\u001b[0;31mFileNotFoundError\u001b[0m: [Errno 2] No such file or directory: 'my_project/.github/workflows/ci.yml'"
          ]
        }
      ]
    },
    {
      "cell_type": "markdown",
      "source": [
        "# 3. Probar el proyecto localmente\n",
        "\n",
        "En windows\n",
        "\n",
        "cd my_project\n",
        "\n",
        "python -m venv venv\n",
        "\n",
        "venv\\Scripts\\activate\n",
        "\n",
        "pip install -r requirements.txt\n",
        "\n",
        "pytest\n"
      ],
      "metadata": {
        "id": "YP6FiRixD7qZ"
      }
    },
    {
      "cell_type": "markdown",
      "source": [
        "# 4. Subir a GitHub directamente desde Google Colab\n",
        "\n",
        "Requisitos antes de comenzar\n",
        "\n",
        "Ve a https://github.com/settings/tokens.\n",
        "\n",
        "Crea un token de acceso personal (classic) con permisos:\n",
        "\n",
        "* repo\n",
        "\n",
        "* workflow\n",
        "\n",
        "Guarda ese token (lo usaremos temporalmente desde Colab)."
      ],
      "metadata": {
        "id": "lKpSyjhrETV7"
      }
    },
    {
      "cell_type": "markdown",
      "source": [
        "**Instalación de GitPython y configuración de Git**"
      ],
      "metadata": {
        "id": "3WrpOYEzE8A4"
      }
    },
    {
      "cell_type": "code",
      "source": [
        "!pip install GitPython > /dev/null\n",
        "import git\n",
        "import os\n",
        "\n",
        "# Cambiar al directorio del proyecto\n",
        "os.chdir(\"/content/my_project\")\n",
        "\n",
        "# Configura tu identidad de Git\n",
        "!git config --global user.email \" \"\n",
        "!git config --global user.name \" \""
      ],
      "metadata": {
        "id": "Wn4q8Rm6DsIQ"
      },
      "execution_count": 6,
      "outputs": []
    },
    {
      "cell_type": "markdown",
      "source": [
        "**Inicializar repo y hacer el push**"
      ],
      "metadata": {
        "id": "chg3iU_7G__x"
      }
    },
    {
      "cell_type": "code",
      "source": [
        "import os\n",
        "import subprocess #Permite ejecutar comandos del sistema como si estuvieras en la terminal.\n",
        "from getpass import getpass #Permite pedir datos al usuario sin que se muestren en pantalla (ideal para contraseñas o tokens)\n",
        "\n",
        "# 🔐 Ingresar el token de forma segura\n",
        "token = getpass(\"🔐 Ingresa tu GitHub token: \")\n",
        "usuario = \"ediomardones\"\n",
        "nombre_repo = \"python_test\"\n",
        "\n",
        "# 📁 Ir al proyecto\n",
        "os.chdir(\"/content/my_project\")\n",
        "\n",
        "# 🧹 Limpiar .git anterior si existía\n",
        "!rm -rf .git\n",
        "\n",
        "# 🔧 Inicializar y configurar Git\n",
        "!git init #Crea un nuevo repositorio Git en la carpeta actual.\n",
        "!git config user.name \"ediomardones\" #Configura el nombre y correo que aparecerán en el commit.\n",
        "!git config user.email \"emardones.arias@gmail.com\"\n",
        "!git add . #Agrega todos los archivos del proyecto al área de staging de Git.\n",
        "!git commit -m \"Primer commit desde Colab con CI\" #Crea un snapshot de los archivos actuales con un mensaje descriptivo.\n",
        "!git branch -m main #estándar actual en github\n",
        "\n",
        "# 🔗 Crear el remote con token incluido\n",
        "\n",
        "#Crea una URL que incluye el token para autenticación sin necesidad de\n",
        "# ingresar usuario y contraseña manualmente.\n",
        "remote_url = f\"https://{token}@github.com/{usuario}/{nombre_repo}.git\"\n",
        "# Asocia el repositorio local a ese remoto, con el nombre origin.\n",
        "!git remote add origin {remote_url}\n",
        "\n",
        "# 🚀 Push con control de errores\n",
        "#El comando git push -u origin main sube el código al repositorio remoto en la rama main\n",
        "try:\n",
        "    subprocess.run([\"git\", \"push\", \"-u\", \"origin\", \"main\"], check=True)\n",
        "    print(\"✅ ¡Proyecto subido correctamente desde Colab!\")\n",
        "except subprocess.CalledProcessError as e:\n",
        "    print(\"❌ Error al hacer push:\")\n",
        "    print(\"STDOUT:\\n\", e.stdout)\n",
        "    print(\"STDERR:\\n\", e.stderr)\n",
        "\n",
        "# Es compatible con integración continua (CI) porque el código se puede enlazar a un workflow.\n"
      ],
      "metadata": {
        "colab": {
          "base_uri": "https://localhost:8080/"
        },
        "id": "ws8R5muWKEoL",
        "outputId": "5691a8f0-6dcc-4e19-bbb9-5c96ba9e15f5"
      },
      "execution_count": null,
      "outputs": [
        {
          "output_type": "stream",
          "name": "stdout",
          "text": [
            "🔐 Ingresa tu GitHub token: ··········\n",
            "\u001b[33mhint: Using 'master' as the name for the initial branch. This default branch name\u001b[m\n",
            "\u001b[33mhint: is subject to change. To configure the initial branch name to use in all\u001b[m\n",
            "\u001b[33mhint: of your new repositories, which will suppress this warning, call:\u001b[m\n",
            "\u001b[33mhint: \u001b[m\n",
            "\u001b[33mhint: \tgit config --global init.defaultBranch <name>\u001b[m\n",
            "\u001b[33mhint: \u001b[m\n",
            "\u001b[33mhint: Names commonly chosen instead of 'master' are 'main', 'trunk' and\u001b[m\n",
            "\u001b[33mhint: 'development'. The just-created branch can be renamed via this command:\u001b[m\n",
            "\u001b[33mhint: \u001b[m\n",
            "\u001b[33mhint: \tgit branch -m <name>\u001b[m\n",
            "Initialized empty Git repository in /content/my_project/.git/\n",
            "[master (root-commit) 510e3cc] Primer commit desde Colab con CI\n",
            " 5 files changed, 48 insertions(+)\n",
            " create mode 100644 .github/workflows/ci.yml\n",
            " create mode 100644 README.md\n",
            " create mode 100644 requirements.txt\n",
            " create mode 100644 src/main.py\n",
            " create mode 100644 tests/test_main.py\n",
            "✅ ¡Proyecto subido correctamente desde Colab!\n"
          ]
        }
      ]
    },
    {
      "cell_type": "markdown",
      "source": [
        "**Ver tu Workflow de GitHub Actions paso a paso**\n",
        "\n",
        "1. Ve a tu repositorio en GitHub:\n",
        "👉 https://github.com/ediomardones/Prog-cientifica\n",
        "\n",
        "2. Haz clic en la pestaña Actions (justo entre Pull requests y Projects).\n",
        "\n",
        "3. Deberías ver una lista con algo como:\n",
        "✔️ CI Pipeline – \"push to main\" – Passed o Running\n",
        "\n",
        "4. Haz clic en la ejecución más reciente (la de hoy) para entrar a los detalles.\n",
        "\n",
        "🔎 **Dentro de la ejecución verás:**\n",
        "\n",
        "Jobs (por sistema operativo):\n",
        "\n",
        "* Linux, Windows, macOS (dependiendo de tu matriz).\n",
        "\n",
        "Cada uno con el estado:  passed |  failed |  running\n",
        "\n",
        "**Dentro de cada Job:**\n",
        "\n",
        "1. Set up job: GitHub reserva el runner.\n",
        "\n",
        "2. Checkout code: Clona tu repo.\n",
        "\n",
        "3. Set up Python: Instala la versión de Python del job.\n",
        "\n",
        "4. Install dependencies: pip install.\n",
        "\n",
        "5. Run linter: flake8 escanea tu código.\n",
        "\n",
        "6. Run tests: corre pytest.\n",
        "\n",
        "**¿Qué pasa si algo falla?**\n",
        "\n",
        "* Verás un ❌ rojo en el paso que falló.\n",
        "\n",
        "* Puedes hacer clic en ese paso y GitHub mostrará el log completo del error.\n",
        "\n",
        "* Ejemplo: si flake8 falla, verás los archivos, líneas y errores de estilo detectados.\n",
        "\n",
        "**¿Qué pasa si todo va bien?**\n",
        "\n",
        "Verás un ✅ verde y el mensaje:\n",
        "\n",
        "This workflow ran successfully.\n",
        "\n",
        "¡Tu flujo CI está funcionando como se espera!"
      ],
      "metadata": {
        "id": "lK0aAzCyMBjF"
      }
    },
    {
      "cell_type": "code",
      "source": [],
      "metadata": {
        "id": "3Qk1TZZqNVxe"
      },
      "execution_count": null,
      "outputs": []
    },
    {
      "cell_type": "code",
      "source": [],
      "metadata": {
        "id": "7T5HLC4CPAcV"
      },
      "execution_count": null,
      "outputs": []
    },
    {
      "cell_type": "code",
      "source": [],
      "metadata": {
        "id": "W2cndPytPARc"
      },
      "execution_count": null,
      "outputs": []
    },
    {
      "cell_type": "markdown",
      "source": [
        "# Actividad\n",
        "\n",
        "La función procesar_pago depende de una función externa verificar_saldo_en_banco que representa una llamada a un sistema de banco (por ejemplo, una API).\n",
        "\n",
        "En esta actividad, no se debe ejecutar verificar_saldo_en_banco realmente, sino simular su comportamiento con mock."
      ],
      "metadata": {
        "id": "1ahUCaFPPA7_"
      }
    },
    {
      "cell_type": "markdown",
      "source": [
        "Código entregado"
      ],
      "metadata": {
        "id": "CGZLoef2PVZ7"
      }
    },
    {
      "cell_type": "code",
      "source": [
        "# src/pagos.py\n",
        "\n",
        "from typing import Callable\n",
        "\n",
        "def verificar_saldo_en_banco(usuario: str) -> float:\n",
        "    \"\"\"\n",
        "    Simula una consulta a un sistema externo (no se implementa).\n",
        "    \"\"\"\n",
        "    raise NotImplementedError(\"Esta función simula un sistema externo.\")\n",
        "\n",
        "def procesar_pago(usuario: str, monto: float, verificador: Callable[[str], float]) -> bool:\n",
        "    \"\"\"\n",
        "    Retorna True si el usuario tiene saldo suficiente y se puede procesar el pago.\n",
        "    \"\"\"\n",
        "    saldo = verificador(usuario)\n",
        "    return saldo >= monto\n"
      ],
      "metadata": {
        "id": "YyfUAgYaPTDZ"
      },
      "execution_count": null,
      "outputs": []
    },
    {
      "cell_type": "markdown",
      "source": [
        "**Parte 1: Crear las pruebas con mock**\n",
        "\n",
        "Crea el archivo tests/test_pagos.py.\n",
        "\n",
        "Usa pytest y unittest.mock para simular diferentes saldos disponibles."
      ],
      "metadata": {
        "id": "mfJarXmAPewM"
      }
    },
    {
      "cell_type": "code",
      "source": [
        "!pip install pytest pytest-mock\n"
      ],
      "metadata": {
        "collapsed": true,
        "colab": {
          "base_uri": "https://localhost:8080/"
        },
        "id": "yq-dp5-AIvyO",
        "outputId": "2d617105-3ea1-4a9a-d06a-b06f2f14212a"
      },
      "execution_count": 8,
      "outputs": [
        {
          "output_type": "stream",
          "name": "stdout",
          "text": [
            "Requirement already satisfied: pytest in /usr/local/lib/python3.11/dist-packages (8.3.5)\n",
            "Collecting pytest-mock\n",
            "  Downloading pytest_mock-3.14.0-py3-none-any.whl.metadata (3.8 kB)\n",
            "Requirement already satisfied: iniconfig in /usr/local/lib/python3.11/dist-packages (from pytest) (2.1.0)\n",
            "Requirement already satisfied: packaging in /usr/local/lib/python3.11/dist-packages (from pytest) (24.2)\n",
            "Requirement already satisfied: pluggy<2,>=1.5 in /usr/local/lib/python3.11/dist-packages (from pytest) (1.5.0)\n",
            "Downloading pytest_mock-3.14.0-py3-none-any.whl (9.9 kB)\n",
            "Installing collected packages: pytest-mock\n",
            "Successfully installed pytest-mock-3.14.0\n"
          ]
        }
      ]
    },
    {
      "cell_type": "code",
      "source": [
        "# Simulación del archivo src/pagos.py\n",
        "\n",
        "from typing import Callable\n",
        "\n",
        "def verificar_saldo_en_banco(usuario: str) -> float:\n",
        "    \"\"\"\n",
        "    Simula una consulta a un sistema externo (no se implementa).\n",
        "    \"\"\"\n",
        "    raise NotImplementedError(\"Esta función simula un sistema externo.\")\n",
        "\n",
        "def procesar_pago(usuario: str, monto: float, verificador: Callable[[str], float]) -> bool:\n",
        "    \"\"\"\n",
        "    Retorna True si el usuario tiene saldo suficiente y se puede procesar el pago.\n",
        "    \"\"\"\n",
        "    saldo = verificador(usuario)\n",
        "    return saldo >= monto\n",
        "\n"
      ],
      "metadata": {
        "id": "-DvHe_CyPpQJ"
      },
      "execution_count": 10,
      "outputs": []
    },
    {
      "cell_type": "code",
      "source": [
        "%%writefile test_pagos.py\n",
        "from unittest.mock import Mock\n",
        "from pagos import procesar_pago\n",
        "\n",
        "def test_pago_con_saldo_suficiente():\n",
        "    mock_verificador = Mock(return_value=100.0)\n",
        "    assert procesar_pago(\"usuario1\", 50.0, mock_verificador) is True\n",
        "\n",
        "def test_pago_con_saldo_exacto():\n",
        "    mock_verificador = Mock(return_value=50.0)\n",
        "    assert procesar_pago(\"usuario2\", 50.0, mock_verificador) is True\n",
        "\n",
        "def test_pago_con_saldo_insuficiente():\n",
        "    mock_verificador = Mock(return_value=30.0)\n",
        "    assert procesar_pago(\"usuario3\", 50.0, mock_verificador) is False\n"
      ],
      "metadata": {
        "colab": {
          "base_uri": "https://localhost:8080/"
        },
        "id": "ec6ldCmHI8Yl",
        "outputId": "30237e71-7bd0-4a42-962e-333504e9a2d6"
      },
      "execution_count": 11,
      "outputs": [
        {
          "output_type": "stream",
          "name": "stdout",
          "text": [
            "Writing test_pagos.py\n"
          ]
        }
      ]
    },
    {
      "cell_type": "code",
      "source": [
        "%%writefile pagos.py\n",
        "from typing import Callable\n",
        "\n",
        "def verificar_saldo_en_banco(usuario: str) -> float:\n",
        "    raise NotImplementedError(\"Esta función simula un sistema externo.\")\n",
        "\n",
        "def procesar_pago(usuario: str, monto: float, verificador: Callable[[str], float]) -> bool:\n",
        "    saldo = verificador(usuario)\n",
        "    return saldo >= monto\n"
      ],
      "metadata": {
        "colab": {
          "base_uri": "https://localhost:8080/"
        },
        "id": "8XKlyV0OI_7n",
        "outputId": "8718c87c-fcfc-4719-9cfc-c4915a349c04"
      },
      "execution_count": 12,
      "outputs": [
        {
          "output_type": "stream",
          "name": "stdout",
          "text": [
            "Writing pagos.py\n"
          ]
        }
      ]
    },
    {
      "cell_type": "code",
      "source": [
        "!pytest test_pagos.py\n"
      ],
      "metadata": {
        "colab": {
          "base_uri": "https://localhost:8080/"
        },
        "id": "F0s9yOAcJCzB",
        "outputId": "2976c05d-4193-41db-ca56-c8ec8bcfa7c9"
      },
      "execution_count": 13,
      "outputs": [
        {
          "output_type": "stream",
          "name": "stdout",
          "text": [
            "\u001b[1m============================= test session starts ==============================\u001b[0m\n",
            "platform linux -- Python 3.11.12, pytest-8.3.5, pluggy-1.5.0\n",
            "rootdir: /content/my_project\n",
            "plugins: mock-3.14.0, typeguard-4.4.2, langsmith-0.3.28, anyio-4.9.0\n",
            "\u001b[1mcollecting ... \u001b[0m\u001b[1m\rcollected 3 items                                                              \u001b[0m\n",
            "\n",
            "test_pagos.py \u001b[32m.\u001b[0m\u001b[32m.\u001b[0m\u001b[32m.\u001b[0m\u001b[32m                                                        [100%]\u001b[0m\n",
            "\n",
            "\u001b[32m============================== \u001b[32m\u001b[1m3 passed\u001b[0m\u001b[32m in 0.02s\u001b[0m\u001b[32m ===============================\u001b[0m\n"
          ]
        }
      ]
    },
    {
      "cell_type": "markdown",
      "source": [
        "**Parte 2: Flujo CI con GitHub Actions**\n",
        "\n",
        "Crea el flujo de trabajo en yaml"
      ],
      "metadata": {
        "id": "q0GF03S5Ppjv"
      }
    },
    {
      "cell_type": "markdown",
      "source": [
        "**Parte 3: Carga a tu repo de github**"
      ],
      "metadata": {
        "id": "MziOY3DaP2Lp"
      }
    },
    {
      "cell_type": "markdown",
      "source": [
        "**Parte 4: Ejecuta pruebas y haz seguimiento en github**"
      ],
      "metadata": {
        "id": "4GQhyarQjVMO"
      }
    },
    {
      "cell_type": "code",
      "source": [],
      "metadata": {
        "id": "7H1yThq_jctn"
      },
      "execution_count": null,
      "outputs": []
    },
    {
      "cell_type": "code",
      "source": [],
      "metadata": {
        "id": "Ci2fJO5RPxja"
      },
      "execution_count": null,
      "outputs": []
    }
  ]
}